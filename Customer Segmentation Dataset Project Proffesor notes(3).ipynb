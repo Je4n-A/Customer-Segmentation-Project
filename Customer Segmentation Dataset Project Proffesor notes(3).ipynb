{
 "cells": [
  {
   "cell_type": "code",
   "execution_count": 1,
   "id": "ee23e38e-6141-4cab-baf2-c6f2f54ebfd3",
   "metadata": {},
   "outputs": [],
   "source": [
    "#Data: https://www.kaggle.com/datasets/yasserh/customer-segmentation-dataset"
   ]
  },
  {
   "cell_type": "markdown",
   "id": "290fac68-f33a-4800-b209-5f86524415d0",
   "metadata": {},
   "source": [
    "# Business Problem\n",
    "The business struggles to effectively engage and retain a diverse customer base due to limited insights into customer purchasing behaviors. \n",
    "Without targeted marketing strategies, and personalized customer experiences, missing revenue opportunities.\n",
    "\n",
    "Objective\n",
    "The goal is to perform a segmentation analysis to identify distinct customer groups within the business’s customer base. \n",
    "By understanding each segment’s purchasing patterns, the business can:\n",
    "    Develop targeted marketing and engagement strategies for each customer type.\n",
    "    This analysis will help drive revenue growth, and build lasting customer relationships."
   ]
  },
  {
   "cell_type": "code",
   "execution_count": 2,
   "id": "3b5b3c5c-f1db-490b-afda-a3a6fd718526",
   "metadata": {},
   "outputs": [],
   "source": [
    "import pandas as pd\n",
    "from sklearn.preprocessing import MinMaxScaler\n",
    "from sklearn.cluster import KMeans\n",
    "from sklearn.metrics import silhouette_score\n",
    "import numpy as np\n",
    "import matplotlib.pyplot as plt\n",
    "import seaborn as sns\n",
    "import plotly.express as px"
   ]
  },
  {
   "cell_type": "code",
   "execution_count": 3,
   "id": "8d366334-551b-4931-85b1-0b9fb61bd6ec",
   "metadata": {},
   "outputs": [
    {
     "name": "stdout",
     "output_type": "stream",
     "text": [
      "  InvoiceNo StockCode                          Description  Quantity  \\\n",
      "0    536365    85123A   WHITE HANGING HEART T-LIGHT HOLDER         6   \n",
      "1    536365     71053                  WHITE METAL LANTERN         6   \n",
      "2    536365    84406B       CREAM CUPID HEARTS COAT HANGER         8   \n",
      "3    536365    84029G  KNITTED UNION FLAG HOT WATER BOTTLE         6   \n",
      "4    536365    84029E       RED WOOLLY HOTTIE WHITE HEART.         6   \n",
      "\n",
      "          InvoiceDate  UnitPrice  CustomerID         Country  \n",
      "0 2010-12-01 08:26:00       2.55     17850.0  United Kingdom  \n",
      "1 2010-12-01 08:26:00       3.39     17850.0  United Kingdom  \n",
      "2 2010-12-01 08:26:00       2.75     17850.0  United Kingdom  \n",
      "3 2010-12-01 08:26:00       3.39     17850.0  United Kingdom  \n",
      "4 2010-12-01 08:26:00       3.39     17850.0  United Kingdom  \n"
     ]
    }
   ],
   "source": [
    "#View of the data\n",
    "datafile = 'Online Retail.xlsx'\n",
    "sales_df = pd.read_excel('Online Retail.xlsx')\n",
    "print(sales_df.head())"
   ]
  },
  {
   "cell_type": "code",
   "execution_count": null,
   "id": "aa224474-1b8d-4dbe-a16d-472517e0f2d7",
   "metadata": {},
   "outputs": [
    {
     "name": "stdout",
     "output_type": "stream",
     "text": [
      "==================================================\n",
      "          Online Retail Dataset Analysis          \n",
      "==================================================\n",
      "\n",
      "📊 Dimensions:\n",
      "   Rows: 541,909\n",
      "   Columns: 8\n",
      "\n",
      "💾 Memory Usage: 126.18 MB\n",
      "\n",
      "📋 Column Information:\n",
      "--------------------------------------------------\n",
      "   InvoiceNo\n",
      "      Type: object\n",
      "      Null Values: 0 (0.00%)\n",
      "   StockCode\n",
      "      Type: object\n",
      "      Null Values: 0 (0.00%)\n",
      "   Description\n",
      "      Type: object\n",
      "      Null Values: 1,454 (0.27%)\n",
      "   Quantity\n",
      "      Type: int64\n",
      "      Null Values: 0 (0.00%)\n",
      "   InvoiceDate\n",
      "      Type: datetime64[ns]\n",
      "      Null Values: 0 (0.00%)\n",
      "   UnitPrice\n",
      "      Type: float64\n",
      "      Null Values: 0 (0.00%)\n",
      "   CustomerID\n",
      "      Type: float64\n",
      "      Null Values: 135,080 (24.93%)\n",
      "   Country\n",
      "      Type: object\n",
      "      Null Values: 0 (0.00%)\n",
      "\n",
      "👀 First 5 Rows:\n",
      "--------------------------------------------------\n",
      "  InvoiceNo StockCode                          Description  Quantity  \\\n",
      "0    536365    85123A   WHITE HANGING HEART T-LIGHT HOLDER         6   \n",
      "1    536365     71053                  WHITE METAL LANTERN         6   \n",
      "2    536365    84406B       CREAM CUPID HEARTS COAT HANGER         8   \n",
      "3    536365    84029G  KNITTED UNION FLAG HOT WATER BOTTLE         6   \n",
      "4    536365    84029E       RED WOOLLY HOTTIE WHITE HEART.         6   \n",
      "\n",
      "          InvoiceDate  UnitPrice  CustomerID         Country  \n",
      "0 2010-12-01 08:26:00       2.55     17850.0  United Kingdom  \n",
      "1 2010-12-01 08:26:00       3.39     17850.0  United Kingdom  \n",
      "2 2010-12-01 08:26:00       2.75     17850.0  United Kingdom  \n",
      "3 2010-12-01 08:26:00       3.39     17850.0  United Kingdom  \n",
      "4 2010-12-01 08:26:00       3.39     17850.0  United Kingdom  \n",
      "\n",
      "📈 Numerical Summary:\n",
      "--------------------------------------------------\n",
      "            Quantity                    InvoiceDate      UnitPrice  \\\n",
      "count  541909.000000                         541909  541909.000000   \n",
      "mean        9.552250  2011-07-04 13:34:57.156386048       4.611114   \n",
      "min    -80995.000000            2010-12-01 08:26:00  -11062.060000   \n",
      "25%         1.000000            2011-03-28 11:34:00       1.250000   \n",
      "50%         3.000000            2011-07-19 17:17:00       2.080000   \n",
      "75%        10.000000            2011-10-19 11:27:00       4.130000   \n",
      "max     80995.000000            2011-12-09 12:50:00   38970.000000   \n",
      "std       218.081158                            NaN      96.759853   \n",
      "\n",
      "          CustomerID  \n",
      "count  406829.000000  \n",
      "mean    15287.690570  \n",
      "min     12346.000000  \n",
      "25%     13953.000000  \n",
      "50%     15152.000000  \n",
      "75%     16791.000000  \n",
      "max     18287.000000  \n",
      "std      1713.600303  \n"
     ]
    }
   ],
   "source": [
    "import pandas as pd\n",
    "from ydata_profiling import ProfileReport\n",
    "\n",
    "def display_dataset_info(df, title=\"Dataset Information\"):\n",
    "\n",
    "    # Print header\n",
    "    print(\"=\"*50)\n",
    "    print(f\"{title:^50}\")\n",
    "    print(\"=\"*50)\n",
    "    \n",
    "    # Size information\n",
    "    data_size = df.shape\n",
    "    print(f\"\\n📊 Dimensions:\")\n",
    "    print(f\"   Rows: {data_size[0]:,}\")\n",
    "    print(f\"   Columns: {data_size[1]:,}\")\n",
    "    \n",
    "    # Memory usage\n",
    "    memory_usage = df.memory_usage(deep=True).sum()\n",
    "    print(f\"\\n💾 Memory Usage: {memory_usage/1024/1024:.2f} MB\")\n",
    "    \n",
    "    # Column information\n",
    "    print(f\"\\n📋 Column Information:\")\n",
    "    print(\"-\"*50)\n",
    "    for col in df.columns:\n",
    "        null_count = df[col].isnull().sum()\n",
    "        null_percentage = (null_count/len(df))*100\n",
    "        print(f\"   {col}\")\n",
    "        print(f\"      Type: {df[col].dtype}\")\n",
    "        print(f\"      Null Values: {null_count:,} ({null_percentage:.2f}%)\")\n",
    "    \n",
    "    # Display first few rows\n",
    "    print(f\"\\n👀 First 5 Rows:\")\n",
    "    print(\"-\"*50)\n",
    "    print(df.head())\n",
    "    \n",
    "    # Basic statistics\n",
    "    print(f\"\\n📈 Numerical Summary:\")\n",
    "    print(\"-\"*50)\n",
    "    print(df.describe())\n",
    "\n",
    "# Load the dataset\n",
    "datafile = 'Online Retail.xlsx'\n",
    "sales_df = pd.read_excel(datafile)\n",
    "\n",
    "# Display formatted information\n",
    "display_dataset_info(sales_df, \"Online Retail Dataset Analysis\")"
   ]
  },
  {
   "cell_type": "code",
   "execution_count": null,
   "id": "f32a0092-299f-4b01-bb88-5d16d1197047",
   "metadata": {},
   "outputs": [
    {
     "name": "stdout",
     "output_type": "stream",
     "text": [
      "============================================================\n",
      "             Online Retail Data Cleaning Report             \n",
      "============================================================\n",
      "\n",
      "📊 Initial Dataset Statistics:\n",
      "------------------------------------------------------------\n",
      "Initial rows: 541,909\n",
      "Initial columns: 8\n",
      "\n",
      "Original columns:\n",
      "   - InvoiceNo (object)\n",
      "   - StockCode (object)\n",
      "   - Description (object)\n",
      "   - Quantity (int64)\n",
      "   - InvoiceDate (datetime64[ns])\n",
      "   - UnitPrice (float64)\n",
      "   - CustomerID (float64)\n",
      "   - Country (object)\n",
      "\n",
      "🗑️ Dropping Unnecessary Columns...\n",
      "\n",
      "🔍 Filtering Negative Values...\n",
      "\n",
      "📉 Removing Outliers...\n",
      "\n",
      "📈 Final Dataset Statistics:\n",
      "------------------------------------------------------------\n",
      "Final rows: 473,741\n",
      "Final columns: 3\n",
      "Rows removed: 68,168\n",
      "Columns removed: 5\n",
      "\n",
      "📊 Summary Statistics:\n",
      "------------------------------------------------------------\n",
      "            Quantity      UnitPrice\n",
      "count  473741.000000  473741.000000\n",
      "mean        4.716636       4.216455\n",
      "std         4.441115      37.965381\n",
      "min         1.000000       0.001000\n",
      "25%         1.000000       1.250000\n",
      "50%         3.000000       2.460000\n",
      "75%         6.000000       4.150000\n",
      "max        23.000000   13541.330000\n",
      "\n",
      "💾 Memory Usage: 39.06 MB\n"
     ]
    }
   ],
   "source": [
    "import pandas as pd\n",
    "import numpy as np\n",
    "import matplotlib.pyplot as plt\n",
    "\n",
    "def clean_and_display_retail_data(df, title=\"Retail Data Cleaning Report\"):\n",
    "    \n",
    "    # Store original shape for comparison\n",
    "    original_shape = df.shape\n",
    "    \n",
    "    # Print header\n",
    "    print(\"=\"*60)\n",
    "    print(f\"{title:^60}\")\n",
    "    print(\"=\"*60)\n",
    "    \n",
    "    # Initial dataset stats\n",
    "    print(\"\\n📊 Initial Dataset Statistics:\")\n",
    "    print(\"-\"*60)\n",
    "    print(f\"Initial rows: {original_shape[0]:,}\")\n",
    "    print(f\"Initial columns: {original_shape[1]:,}\")\n",
    "    print(\"\\nOriginal columns:\")\n",
    "    for col in df.columns:\n",
    "        print(f\"   - {col} ({df[col].dtype})\")\n",
    "    \n",
    "    # Drop unnecessary columns\n",
    "    print(\"\\n🗑️ Dropping Unnecessary Columns...\")\n",
    "    df_cleaned = df.drop(['Description', 'InvoiceNo', 'StockCode', \n",
    "                         'InvoiceDate', 'CustomerID'], axis=1)\n",
    "    \n",
    "    # Filter negative values\n",
    "    print(\"\\n🔍 Filtering Negative Values...\")\n",
    "    df_cleaned = df_cleaned[df_cleaned['Quantity'] > 0]\n",
    "    df_cleaned = df_cleaned[df_cleaned['UnitPrice'] > 0]\n",
    "    \n",
    "    # Remove outliers\n",
    "    print(\"\\n📉 Removing Outliers...\")\n",
    "    # For Quantity\n",
    "    Q1_quantity = df_cleaned['Quantity'].quantile(0.25)\n",
    "    Q3_quantity = df_cleaned['Quantity'].quantile(0.75)\n",
    "    IQR_quantity = Q3_quantity - Q1_quantity\n",
    "    \n",
    "    df_cleaned = df_cleaned[\n",
    "        (df_cleaned['Quantity'] >= (Q1_quantity - 1.5 * IQR_quantity)) & \n",
    "        (df_cleaned['Quantity'] <= (Q3_quantity + 1.5 * IQR_quantity))\n",
    "    ]\n",
    "    \n",
    "    # Final statistics\n",
    "    print(\"\\n📈 Final Dataset Statistics:\")\n",
    "    print(\"-\"*60)\n",
    "    print(f\"Final rows: {df_cleaned.shape[0]:,}\")\n",
    "    print(f\"Final columns: {df_cleaned.shape[1]:,}\")\n",
    "    print(f\"Rows removed: {original_shape[0] - df_cleaned.shape[0]:,}\")\n",
    "    print(f\"Columns removed: {original_shape[1] - df_cleaned.shape[1]:,}\")\n",
    "    \n",
    "    # Summary statistics\n",
    "    print(\"\\n📊 Summary Statistics:\")\n",
    "    print(\"-\"*60)\n",
    "    print(df_cleaned.describe())\n",
    "    \n",
    "    # Memory usage\n",
    "    memory_usage = df_cleaned.memory_usage(deep=True).sum()\n",
    "    print(f\"\\n💾 Memory Usage: {memory_usage/1024/1024:.2f} MB\")\n",
    "    \n",
    "    return df_cleaned\n",
    "\n",
    "# Usage\n",
    "sales_df = clean_and_display_retail_data(sales_df, \"Online Retail Data Cleaning Report\")"
   ]
  },
  {
   "cell_type": "code",
   "execution_count": null,
   "id": "6cb15a45-7332-4261-abb9-e1a2b8e2252c",
   "metadata": {},
   "outputs": [
    {
     "data": {
      "text/plain": [
       "<Figure size 1500x600 with 0 Axes>"
      ]
     },
     "metadata": {},
     "output_type": "display_data"
    },
    {
     "data": {
      "image/png": "[encoded data removed]",
      "text/plain": [
       "<Figure size 1500x600 with 3 Axes>"
      ]
     },
     "metadata": {},
     "output_type": "display_data"
    }
   ],
   "source": [
    "import pandas as pd\n",
    "import seaborn as sns\n",
    "import matplotlib.pyplot as plt\n",
    "\n",
    "def plot_distribution_analysis(df, figsize=(15, 6)):\n",
    "    \n",
    "    # Set the style\n",
    "    sns.set_style(\"whitegrid\")\n",
    "    plt.figure(figsize=figsize)\n",
    "    \n",
    "    # Calculate total sales\n",
    "    df['TotalSales'] = df['Quantity'] * df['UnitPrice']\n",
    "    \n",
    "    # Create subplots\n",
    "    fig, axes = plt.subplots(1, 3, figsize=figsize)\n",
    "    \n",
    "    # Plot 1: Quantity Distribution\n",
    "    sns.boxplot(y='Quantity', data=df, ax=axes[0], \n",
    "                showfliers=False, color='skyblue', label='Box Plot')\n",
    "    sns.stripplot(y='Quantity', data=df, ax=axes[0], \n",
    "                 size=4, color='navy', alpha=0.3, label='Data Points')\n",
    "    axes[0].set_title('Quantity Distribution')\n",
    "    axes[0].set_ylabel('Quantity')\n",
    "    axes[0].legend()\n",
    "    \n",
    "    # Plot 2: Unit Price Distribution\n",
    "    sns.boxplot(y='UnitPrice', data=df, ax=axes[1], \n",
    "                showfliers=False, color='lightgreen', label='Box Plot')\n",
    "    sns.stripplot(y='UnitPrice', data=df, ax=axes[1], \n",
    "                 size=4, color='darkgreen', alpha=0.3, label='Data Points')\n",
    "    axes[1].set_title('Unit Price Distribution')\n",
    "    axes[1].set_ylabel('Unit Price')\n",
    "    axes[1].legend()\n",
    "    \n",
    "    # Plot 3: Total Sales Distribution\n",
    "    sns.boxplot(y='TotalSales', data=df, ax=axes[2], \n",
    "                showfliers=False, color='salmon', label='Box Plot')\n",
    "    sns.stripplot(y='TotalSales', data=df, ax=axes[2], \n",
    "                 size=4, color='darkred', alpha=0.3, label='Data Points')\n",
    "    axes[2].set_title('Total Sales Distribution')\n",
    "    axes[2].set_ylabel('Total Sales')\n",
    "    axes[2].legend()\n",
    "    \n",
    "    # Add summary statistics annotations\n",
    "    for ax, column in zip(axes, ['Quantity', 'UnitPrice', 'TotalSales']):\n",
    "        stats = df[column].describe()\n",
    "        ax.text(0.05, 0.95, \n",
    "                f'Mean: {stats[\"mean\"]:.2f}\\nMedian: {stats[\"50%\"]:.2f}\\nStd: {stats[\"std\"]:.2f}',\n",
    "                transform=ax.transAxes,\n",
    "                bbox=dict(facecolor='white', alpha=0.8),\n",
    "                verticalalignment='top')\n",
    "    \n",
    "    # Adjust layout\n",
    "    plt.suptitle('Retail Data Distribution Analysis', \n",
    "                 fontsize=14, y=1.05)\n",
    "    plt.tight_layout()\n",
    "    \n",
    "    return plt\n",
    "\n",
    "# Usage\n",
    "plot_distribution_analysis(sales_df)\n",
    "plt.show()"
   ]
  },
  {
   "cell_type": "code",
   "execution_count": null,
   "id": "4b03bd17-0f4c-4122-a3e0-5d7e802436e8",
   "metadata": {},
   "outputs": [
    {
     "name": "stdout",
     "output_type": "stream",
     "text": [
      "\n",
      "============================================================\n",
      "                 💰 Sales Analysis Report 💰                  \n",
      "============================================================\n",
      "\n",
      "📊 Sample Data Preview:\n",
      "------------------------------------------------------------\n",
      "   Quantity UnitPrice TotalPrice\n",
      "0         6     £2.55     £15.30\n",
      "1         6     £3.39     £20.34\n",
      "2         8     £2.75     £22.00\n",
      "3         6     £3.39     £20.34\n",
      "4         6     £3.39     £20.34\n",
      "\n",
      "📈 Summary Statistics:\n",
      "------------------------------------------------------------\n",
      "Count:      473,741.0\n",
      "Mean:       £12.76\n",
      "Std Dev:    £40.48\n",
      "Min:        £0.00\n",
      "25%:        £3.30\n",
      "Median:     £8.28\n",
      "75%:        £16.50\n",
      "Max:        £13,541.33\n",
      "\n",
      "🔍 Key Insights:\n",
      "------------------------------------------------------------\n",
      "Total Revenue:     £6,045,064.55\n",
      "Average Order:     £12.76\n",
      "Total Orders:      473,741\n",
      "Unique Products:   1,203\n"
     ]
    }
   ],
   "source": [
    "import pandas as pd\n",
    "import numpy as np\n",
    "\n",
    "def display_sales_analysis(df):\n",
    "    \n",
    "    # Calculate TotalPrice\n",
    "    df['TotalPrice'] = df['Quantity'] * df['UnitPrice']\n",
    "    \n",
    "    # Print header\n",
    "    print(\"\\n\" + \"=\"*60)\n",
    "    print(f\"{'💰 Sales Analysis Report 💰':^60}\")\n",
    "    print(\"=\"*60)\n",
    "    \n",
    "    # Display sample data\n",
    "    print(\"\\n📊 Sample Data Preview:\")\n",
    "    print(\"-\"*60)\n",
    "    sample_df = df[['Quantity', 'UnitPrice', 'TotalPrice']].head()\n",
    "    # Format currency columns\n",
    "    pd.options.display.float_format = '£{:,.2f}'.format\n",
    "    print(sample_df.to_string(\n",
    "        formatters={\n",
    "            'UnitPrice': '£{:,.2f}'.format,\n",
    "            'TotalPrice': '£{:,.2f}'.format\n",
    "        }\n",
    "    ))\n",
    "    \n",
    "    # Calculate and display summary statistics\n",
    "    print(\"\\n📈 Summary Statistics:\")\n",
    "    print(\"-\"*60)\n",
    "    stats = df['TotalPrice'].describe()\n",
    "    \n",
    "    print(f\"Count:      {stats['count']:,}\")\n",
    "    print(f\"Mean:       £{stats['mean']:,.2f}\")\n",
    "    print(f\"Std Dev:    £{stats['std']:,.2f}\")\n",
    "    print(f\"Min:        £{stats['min']:,.2f}\")\n",
    "    print(f\"25%:        £{stats['25%']:,.2f}\")\n",
    "    print(f\"Median:     £{stats['50%']:,.2f}\")\n",
    "    print(f\"75%:        £{stats['75%']:,.2f}\")\n",
    "    print(f\"Max:        £{stats['max']:,.2f}\")\n",
    "    \n",
    "    # Additional insights\n",
    "    print(\"\\n🔍 Key Insights:\")\n",
    "    print(\"-\"*60)\n",
    "    print(f\"Total Revenue:     £{df['TotalPrice'].sum():,.2f}\")\n",
    "    print(f\"Average Order:     £{df['TotalPrice'].mean():,.2f}\")\n",
    "    print(f\"Total Orders:      {len(df):,}\")\n",
    "    print(f\"Unique Products:   {df['UnitPrice'].nunique():,}\")\n",
    "\n",
    "# Usage\n",
    "display_sales_analysis(sales_df)"
   ]
  },
  {
   "cell_type": "code",
   "execution_count": null,
   "id": "ef2ff14c-1837-4d82-9aa6-12cab0fc080c",
   "metadata": {},
   "outputs": [
    {
     "name": "stdout",
     "output_type": "stream",
     "text": [
      "\n",
      "======================================================================\n",
      "                  🌍 Average Order Value by Country 🌍                  \n",
      "======================================================================\n",
      "\n",
      "1. Singapore\n",
      "   Average Order Value: £124.60\n",
      "   Number of Orders:    139.0\n",
      "----------------------------------------------------------------------\n",
      "\n",
      "2. Hong Kong\n",
      "   Average Order Value: £55.45\n",
      "   Number of Orders:    198.0\n",
      "----------------------------------------------------------------------\n",
      "\n",
      "3. Lithuania\n",
      "   Average Order Value: £42.80\n",
      "   Number of Orders:    24.0\n",
      "----------------------------------------------------------------------\n",
      "\n",
      "4. Lebanon\n",
      "   Average Order Value: £38.20\n",
      "   Number of Orders:    44.0\n",
      "----------------------------------------------------------------------\n",
      "\n",
      "5. Czech Republic\n",
      "   Average Order Value: £35.76\n",
      "   Number of Orders:    7.0\n",
      "----------------------------------------------------------------------\n",
      "\n",
      "6. Netherlands\n",
      "   Average Order Value: £33.12\n",
      "   Number of Orders:    629.0\n",
      "----------------------------------------------------------------------\n",
      "\n",
      "7. Greece\n",
      "   Average Order Value: £31.61\n",
      "   Number of Orders:    130.0\n",
      "----------------------------------------------------------------------\n",
      "\n",
      "8. Brazil\n",
      "   Average Order Value: £29.11\n",
      "   Number of Orders:    24.0\n",
      "----------------------------------------------------------------------\n",
      "\n",
      "9. Denmark\n",
      "   Average Order Value: £28.88\n",
      "   Number of Orders:    227.0\n",
      "----------------------------------------------------------------------\n",
      "\n",
      "10. United Arab Emirates\n",
      "   Average Order Value: £28.18\n",
      "   Number of Orders:    54.0\n",
      "----------------------------------------------------------------------\n",
      "\n",
      "11. Norway\n",
      "   Average Order Value: £28.16\n",
      "   Number of Orders:    756.0\n",
      "----------------------------------------------------------------------\n",
      "\n",
      "12. Finland\n",
      "   Average Order Value: £27.41\n",
      "   Number of Orders:    541.0\n",
      "----------------------------------------------------------------------\n",
      "\n",
      "13. Sweden\n",
      "   Average Order Value: £26.05\n",
      "   Number of Orders:    224.0\n",
      "----------------------------------------------------------------------\n",
      "\n",
      "14. Australia\n",
      "   Average Order Value: £25.41\n",
      "   Number of Orders:    494.0\n",
      "----------------------------------------------------------------------\n",
      "\n",
      "15. Malta\n",
      "   Average Order Value: £24.46\n",
      "   Number of Orders:    102.0\n",
      "----------------------------------------------------------------------\n",
      "\n",
      "16. Austria\n",
      "   Average Order Value: £23.14\n",
      "   Number of Orders:    351.0\n",
      "----------------------------------------------------------------------\n",
      "\n",
      "17. Bahrain\n",
      "   Average Order Value: £23.10\n",
      "   Number of Orders:    14.0\n",
      "----------------------------------------------------------------------\n",
      "\n",
      "18. Switzerland\n",
      "   Average Order Value: £23.01\n",
      "   Number of Orders:    1,483.0\n",
      "----------------------------------------------------------------------\n",
      "\n",
      "19. Channel Islands\n",
      "   Average Order Value: £23.00\n",
      "   Number of Orders:    621.0\n",
      "----------------------------------------------------------------------\n",
      "\n",
      "20. EIRE\n",
      "   Average Order Value: £22.67\n",
      "   Number of Orders:    6,203.0\n",
      "----------------------------------------------------------------------\n",
      "\n",
      "21. Italy\n",
      "   Average Order Value: £22.27\n",
      "   Number of Orders:    678.0\n",
      "----------------------------------------------------------------------\n",
      "\n",
      "22. European Community\n",
      "   Average Order Value: £21.72\n",
      "   Number of Orders:    54.0\n",
      "----------------------------------------------------------------------\n",
      "\n",
      "23. Germany\n",
      "   Average Order Value: £21.57\n",
      "   Number of Orders:    7,506.0\n",
      "----------------------------------------------------------------------\n",
      "\n",
      "24. Canada\n",
      "   Average Order Value: £21.38\n",
      "   Number of Orders:    114.0\n",
      "----------------------------------------------------------------------\n",
      "\n",
      "25. Israel\n",
      "   Average Order Value: £21.15\n",
      "   Number of Orders:    206.0\n",
      "----------------------------------------------------------------------\n",
      "\n",
      "26. Iceland\n",
      "   Average Order Value: £21.07\n",
      "   Number of Orders:    147.0\n",
      "----------------------------------------------------------------------\n",
      "\n",
      "27. France\n",
      "   Average Order Value: £20.85\n",
      "   Number of Orders:    6,985.0\n",
      "----------------------------------------------------------------------\n",
      "\n",
      "28. Portugal\n",
      "   Average Order Value: £20.80\n",
      "   Number of Orders:    1,308.0\n",
      "----------------------------------------------------------------------\n",
      "\n",
      "29. Poland\n",
      "   Average Order Value: £20.08\n",
      "   Number of Orders:    284.0\n",
      "----------------------------------------------------------------------\n",
      "\n",
      "30. Belgium\n",
      "   Average Order Value: £19.65\n",
      "   Number of Orders:    1,769.0\n",
      "----------------------------------------------------------------------\n",
      "\n",
      "31. Cyprus\n",
      "   Average Order Value: £19.26\n",
      "   Number of Orders:    551.0\n",
      "----------------------------------------------------------------------\n",
      "\n",
      "32. Spain\n",
      "   Average Order Value: £18.33\n",
      "   Number of Orders:    2,145.0\n",
      "----------------------------------------------------------------------\n",
      "\n",
      "33. Japan\n",
      "   Average Order Value: £17.97\n",
      "   Number of Orders:    90.0\n",
      "----------------------------------------------------------------------\n",
      "\n",
      "34. RSA\n",
      "   Average Order Value: £17.58\n",
      "   Number of Orders:    57.0\n",
      "----------------------------------------------------------------------\n",
      "\n",
      "35. USA\n",
      "   Average Order Value: £17.05\n",
      "   Number of Orders:    138.0\n",
      "----------------------------------------------------------------------\n",
      "\n",
      "36. Saudi Arabia\n",
      "   Average Order Value: £16.21\n",
      "   Number of Orders:    9.0\n",
      "----------------------------------------------------------------------\n",
      "\n",
      "37. United Kingdom\n",
      "   Average Order Value: £11.99\n",
      "   Number of Orders:    439,047.0\n",
      "----------------------------------------------------------------------\n",
      "\n",
      "38. Unspecified\n",
      "   Average Order Value: £9.61\n",
      "   Number of Orders:    388.0\n",
      "----------------------------------------------------------------------\n",
      "\n",
      "📊 Summary Statistics:\n",
      "Total Countries:     38\n",
      "Global Average:      £12.76\n",
      "Total Orders:        473,741\n"
     ]
    }
   ],
   "source": [
    "def display_country_analysis(df):\n",
    "    \n",
    "    # Calculate average order value by country\n",
    "    avg_order = df.groupby('Country')['TotalPrice'].agg([\n",
    "        ('Average Order Value', 'mean'),\n",
    "        ('Total Orders', 'count')\n",
    "    ]).sort_values('Average Order Value', ascending=False)\n",
    "    \n",
    "    # Add percentage of total\n",
    "    total_orders = avg_order['Total Orders'].sum()\n",
    "    avg_order['% of Orders'] = (avg_order['Total Orders'] / total_orders * 100)\n",
    "    \n",
    "    # Format and display results\n",
    "    print(\"\\n\" + \"=\"*70)\n",
    "    print(f\"{'🌍 Average Order Value by Country 🌍':^70}\")\n",
    "    print(\"=\"*70)\n",
    "    \n",
    "    # Display each country's statistics\n",
    "    for idx, (country, row) in enumerate(avg_order.iterrows(), 1):\n",
    "        print(f\"\\n{idx}. {country}\")\n",
    "        print(f\"   Average Order Value: £{row['Average Order Value']:,.2f}\")\n",
    "        print(f\"   Number of Orders:    {row['Total Orders']:,}\")\n",
    "        print(\"-\"*70)\n",
    "    \n",
    "    # Display summary statistics\n",
    "    print(\"\\n📊 Summary Statistics:\")\n",
    "    print(f\"Total Countries:     {len(avg_order):,}\")\n",
    "    print(f\"Global Average:      £{df['TotalPrice'].mean():,.2f}\")\n",
    "    print(f\"Total Orders:        {total_orders:,}\")\n",
    "\n",
    "# Usage\n",
    "display_country_analysis(sales_df)"
   ]
  },
  {
   "cell_type": "code",
   "execution_count": null,
   "id": "705607a2-11a1-41cc-8d1d-7cb8b2978fa1",
   "metadata": {},
   "outputs": [
    {
     "name": "stdout",
     "output_type": "stream",
     "text": [
      "\n",
      "📊 Sales Analysis Summary:\n",
      "Total Revenue: £5,891,155.86\n",
      "Number of Major Markets: 10\n",
      "Top Market: United Kingdom (£5,265,439.36)\n",
      "Average Market Size: £589,115.59\n"
     ]
    },
    {
     "data": {
      "image/png": "[encoded data removed]",
      "text/plain": [
       "<Figure size 1400x800 with 1 Axes>"
      ]
     },
     "metadata": {},
     "output_type": "display_data"
    }
   ],
   "source": [
    "import pandas as pd\n",
    "import matplotlib.pyplot as plt\n",
    "import numpy as np\n",
    "\n",
    "def plot_significant_sales(sales_df, threshold=20000):\n",
    "    \n",
    "    # Set style\n",
    "    plt.style.use('ggplot')  # Use a built-in matplotlib style\n",
    "    \n",
    "    # Calculate sales by country\n",
    "    country_sales = sales_df.groupby('Country')['TotalPrice'].sum().sort_values(ascending=False)\n",
    "    significant_sales = country_sales[country_sales > threshold]\n",
    "    \n",
    "    # Create figure\n",
    "    plt.figure(figsize=(14, 8))\n",
    "    \n",
    "    # Create bar plot with built-in colormap\n",
    "    colors = plt.cm.tab20(np.linspace(0, 1, len(significant_sales)))\n",
    "    bars = plt.bar(significant_sales.index, \n",
    "                   significant_sales.values,\n",
    "                   color=colors,\n",
    "                   alpha=0.7)\n",
    "    \n",
    "    # Enhance formatting\n",
    "    plt.title('Major Markets by Total Sales Revenue', \n",
    "             fontsize=16, \n",
    "             pad=20,\n",
    "             fontweight='bold')\n",
    "    plt.xlabel('Country', fontsize=12, labelpad=10)\n",
    "    plt.ylabel('Total Sales (£)', fontsize=12, labelpad=10)\n",
    "    \n",
    "    # Format y-axis\n",
    "    plt.gca().yaxis.set_major_formatter(\n",
    "        plt.FuncFormatter(lambda x, p: f'£{x:,.0f}'))\n",
    "    \n",
    "    # Rotate and align x-axis labels\n",
    "    plt.xticks(rotation=45, ha='right')\n",
    "    \n",
    "    # Add value labels with enhanced formatting\n",
    "    for i, bar in enumerate(bars):\n",
    "        sales_value = significant_sales.values[i]\n",
    "        if sales_value >= 1000000:\n",
    "            label = f'£{sales_value/1000000:.1f}M'\n",
    "        else:\n",
    "            label = f'£{sales_value/1000:.0f}K'\n",
    "        plt.text(i, bar.get_height(), label,\n",
    "                ha='center', va='bottom',\n",
    "                fontweight='bold')\n",
    "    \n",
    "    # Enhance grid\n",
    "    plt.grid(True, linestyle='--', alpha=0.3, axis='y')\n",
    "    \n",
    "    # Add percentage annotations\n",
    "    total_sales = significant_sales.sum()\n",
    "    for i, (country, sales) in enumerate(significant_sales.items()):\n",
    "        percentage = (sales / total_sales) * 100\n",
    "        plt.text(i, sales/2, f'{percentage:.1f}%',\n",
    "                ha='center', va='center',\n",
    "                color='black',\n",
    "                fontweight='bold')\n",
    "    \n",
    "    # Adjust layout\n",
    "    plt.tight_layout()\n",
    "    \n",
    "    # Print summary statistics\n",
    "    print(\"\\n📊 Sales Analysis Summary:\")\n",
    "    print(f\"Total Revenue: £{total_sales:,.2f}\")\n",
    "    print(f\"Number of Major Markets: {len(significant_sales)}\")\n",
    "    print(f\"Top Market: {significant_sales.index[0]} (£{significant_sales.values[0]:,.2f})\")\n",
    "    print(f\"Average Market Size: £{significant_sales.mean():,.2f}\")\n",
    "    \n",
    "    return plt\n",
    "\n",
    "# Usage\n",
    "plot_significant_sales(sales_df)\n",
    "plt.show()"
   ]
  },
  {
   "cell_type": "code",
   "execution_count": 26,
   "id": "2e995414-b9b5-4c1b-a661-195a2466aaea",
   "metadata": {},
   "outputs": [
    {
     "data": {
      "image/png": "[encoded data removed]",
      "text/plain": [
       "<Figure size 1000x800 with 2 Axes>"
      ]
     },
     "metadata": {},
     "output_type": "display_data"
    }
   ],
   "source": [
    "# Calculate correlation matrix for numeric columns\n",
    "numeric_cols = ['Quantity', 'UnitPrice', 'TotalPrice']\n",
    "correlation_matrix = sales_df[numeric_cols].corr()\n",
    "\n",
    "# Visualize the Correlation Matrix \n",
    "plt.figure(figsize=(10, 8))\n",
    "\n",
    "# Create heatmap\n",
    "sns.heatmap(correlation_matrix, \n",
    "            annot=True,              # Show values on cells\n",
    "            cmap='coolwarm',         # Color scheme\n",
    "            linewidths=0.5,          # Grid line width\n",
    "            fmt='.2f',              # Format numbers to 2 decimal places\n",
    "            square=True)            # Make cells square\n",
    "\n",
    "# Format title and layout\n",
    "plt.title('Correlation Matrix Heatmap', fontsize=14, pad=20)\n",
    "\n",
    "# Adjust layout to prevent label cutoff\n",
    "plt.tight_layout()\n",
    "\n",
    "# Save and show plot\n",
    "plt.savefig('correlation_matrix.png', bbox_inches='tight', dpi=300)\n",
    "plt.show()"
   ]
  },
  {
   "cell_type": "code",
   "execution_count": null,
   "id": "28b5e6b4-d8c3-42d7-8b9d-1ea83cafb15b",
   "metadata": {},
   "outputs": [
    {
     "data": {
      "image/png": "[encoded data removed]",
      "text/plain": [
       "<Figure size 1200x600 with 1 Axes>"
      ]
     },
     "metadata": {},
     "output_type": "display_data"
    }
   ],
   "source": [
    "import pandas as pd\n",
    "import numpy as np\n",
    "import matplotlib.pyplot as plt\n",
    "from scipy import stats\n",
    "\n",
    "def plot_sales_distribution(df, percentile=0.95, figsize=(12, 6)):\n",
    "    \n",
    "    # Set style\n",
    "    plt.style.use('ggplot')  # Use a built-in matplotlib style\n",
    "    \n",
    "    # Create figure\n",
    "    fig, ax = plt.subplots(figsize=figsize)\n",
    "    \n",
    "    # Filter data\n",
    "    sales_threshold = df['TotalPrice'].quantile(percentile)\n",
    "    filtered_sales = df[df['TotalPrice'] <= sales_threshold]\n",
    "    \n",
    "    # Create histogram\n",
    "    n, bins, patches = plt.hist(filtered_sales['TotalPrice'], \n",
    "                               bins=50, \n",
    "                               density=True, \n",
    "                               alpha=0.7,\n",
    "                               color='skyblue',\n",
    "                               edgecolor='white')\n",
    "    \n",
    "    # Add KDE\n",
    "    kde_x = np.linspace(filtered_sales['TotalPrice'].min(), \n",
    "                       filtered_sales['TotalPrice'].max(), 200)\n",
    "    kde = stats.gaussian_kde(filtered_sales['TotalPrice'])\n",
    "    plt.plot(kde_x, kde.evaluate(kde_x), 'r-', lw=2, \n",
    "             label='Density Estimation')\n",
    "    \n",
    "    # Calculate and display key statistics\n",
    "    mean_sales = filtered_sales['TotalPrice'].mean()\n",
    "    median_sales = filtered_sales['TotalPrice'].median()\n",
    "    \n",
    "    # Add vertical lines for statistics\n",
    "    plt.axvline(mean_sales, color='red', linestyle='--', \n",
    "                label=f'Mean: £{mean_sales:,.2f}')\n",
    "    plt.axvline(median_sales, color='green', linestyle='--', \n",
    "                label=f'Median: £{median_sales:,.2f}')\n",
    "    \n",
    "    # Format axes\n",
    "    plt.gca().xaxis.set_major_formatter(\n",
    "        plt.FuncFormatter(lambda x, p: f'£{x:,.0f}'))\n",
    "    \n",
    "    # Enhance title and labels\n",
    "    plt.title('Distribution of Sales Amounts\\n' + \n",
    "              f'(Filtered to {percentile*100:.0f}th Percentile)', \n",
    "              fontsize=14, pad=20, fontweight='bold')\n",
    "    plt.xlabel('Sale Amount (£)', fontsize=12, labelpad=10)\n",
    "    plt.ylabel('Density', fontsize=12, labelpad=10)\n",
    "    \n",
    "    # Add annotations for key statistics\n",
    "    stats_text = (f'Mean: £{mean_sales:,.2f}\\n'\n",
    "                  f'Median: £{median_sales:,.2f}\\n'\n",
    "                  f'Std Dev: £{filtered_sales[\"TotalPrice\"].std():,.2f}\\n'\n",
    "                  f'Sample Size: {len(filtered_sales):,}')\n",
    "    \n",
    "    plt.text(0.95, 0.95, stats_text,\n",
    "             transform=ax.transAxes,\n",
    "             verticalalignment='top',\n",
    "             horizontalalignment='right',\n",
    "             bbox=dict(boxstyle='round',\n",
    "                      facecolor='white',\n",
    "                      alpha=0.8))\n",
    "    \n",
    "    # Enhance legend and grid\n",
    "    plt.legend(loc='upper left', bbox_to_anchor=(1, 1))\n",
    "    plt.grid(True, linestyle='--', alpha=0.3)\n",
    "    \n",
    "    # Adjust layout\n",
    "    plt.tight_layout()\n",
    "    \n",
    "    return plt\n",
    "\n",
    "# Usage\n",
    "plot_sales_distribution(sales_df)\n",
    "plt.savefig('sales_distribution_enhanced.png', \n",
    "            bbox_inches='tight', dpi=300)\n",
    "plt.show()"
   ]
  },
  {
   "cell_type": "code",
   "execution_count": null,
   "id": "1f3da8eb-1b96-4222-82ec-0284ac2aabd0",
   "metadata": {},
   "outputs": [
    {
     "name": "stderr",
     "output_type": "stream",
     "text": [
      "c:\\Users\\jmaen\\anaconda3\\Lib\\site-packages\\sklearn\\cluster\\_kmeans.py:1416: FutureWarning:\n",
      "\n",
      "The default value of `n_init` will change from 10 to 'auto' in 1.4. Set the value of `n_init` explicitly to suppress the warning\n",
      "\n"
     ]
    },
    {
     "name": "stdout",
     "output_type": "stream",
     "text": [
      "\n",
      "============================================================\n",
      "              🎯 Customer Segmentation Analysis              \n",
      "============================================================\n",
      "\n",
      "📊 Cluster Sizes:\n",
      "Medium spenders: 360,450 customers (76.1%)\n",
      "Frequent small spenders: 113,283 customers (23.9%)\n",
      "Occasional high spenders: 8 customers (0.0%)\n",
      "\n",
      "📈 Cluster Metrics (Mean Values):\n",
      "                          Quantity  UnitPrice\n",
      "Cluster_Label                                \n",
      "Frequent small spenders     £11.78      £1.89\n",
      "Medium spenders              £2.50      £4.80\n",
      "Occasional high spenders     £1.00  £6,726.30\n",
      "\n",
      "🌍 Dominant Segments by Country:\n",
      "                 Country            Cluster_Label\n",
      "0              Australia          Medium spenders\n",
      "1                Austria  Frequent small spenders\n",
      "2                Bahrain          Medium spenders\n",
      "3                Belgium  Frequent small spenders\n",
      "4                 Brazil          Medium spenders\n",
      "5                 Canada  Frequent small spenders\n",
      "6        Channel Islands          Medium spenders\n",
      "7                 Cyprus          Medium spenders\n",
      "8         Czech Republic  Frequent small spenders\n",
      "9                Denmark  Frequent small spenders\n",
      "10                  EIRE          Medium spenders\n",
      "11    European Community          Medium spenders\n",
      "12               Finland  Frequent small spenders\n",
      "13                France  Frequent small spenders\n",
      "14               Germany  Frequent small spenders\n",
      "15                Greece  Frequent small spenders\n",
      "16             Hong Kong  Frequent small spenders\n",
      "17               Iceland  Frequent small spenders\n",
      "18                Israel          Medium spenders\n",
      "19                 Italy          Medium spenders\n",
      "20                 Japan          Medium spenders\n",
      "21               Lebanon  Frequent small spenders\n",
      "22             Lithuania  Frequent small spenders\n",
      "23                 Malta          Medium spenders\n",
      "24           Netherlands          Medium spenders\n",
      "25                Norway  Frequent small spenders\n",
      "26                Poland  Frequent small spenders\n",
      "27              Portugal          Medium spenders\n",
      "28                   RSA          Medium spenders\n",
      "29          Saudi Arabia  Frequent small spenders\n",
      "30             Singapore  Frequent small spenders\n",
      "31                 Spain          Medium spenders\n",
      "32                Sweden  Frequent small spenders\n",
      "33           Switzerland  Frequent small spenders\n",
      "34                   USA  Frequent small spenders\n",
      "35  United Arab Emirates  Frequent small spenders\n",
      "36        United Kingdom          Medium spenders\n",
      "37           Unspecified          Medium spenders\n"
     ]
    },
    {
     "data": {
      "image/png": "[encoded data removed]",
      "text/plain": [
       "<Figure size 1200x600 with 1 Axes>"
      ]
     },
     "metadata": {},
     "output_type": "display_data"
    }
   ],
   "source": [
    "import pandas as pd\n",
    "import numpy as np\n",
    "from sklearn.preprocessing import StandardScaler\n",
    "from sklearn.cluster import KMeans\n",
    "import matplotlib.pyplot as plt\n",
    "\n",
    "def perform_customer_segmentation(df, n_clusters=3, random_state=42):\n",
    "\n",
    "    # Select and prepare features\n",
    "    features = ['Quantity', 'UnitPrice']\n",
    "    cluster_data = df[features].copy()\n",
    "    \n",
    "    # Scale the features\n",
    "    scaler = StandardScaler()\n",
    "    scaled_data = scaler.fit_transform(cluster_data)\n",
    "    \n",
    "    # Perform clustering\n",
    "    kmeans = KMeans(n_clusters=n_clusters, random_state=random_state)\n",
    "    df['Cluster'] = kmeans.fit_predict(scaled_data)\n",
    "    \n",
    "    # Define meaningful labels\n",
    "    cluster_labels = {\n",
    "        0: 'Frequent small spenders',\n",
    "        1: 'Medium spenders',\n",
    "        2: 'Occasional high spenders'\n",
    "    }\n",
    "    \n",
    "    # Add labels to dataframe\n",
    "    df['Cluster_Label'] = df['Cluster'].map(cluster_labels)\n",
    "    \n",
    "    # Aggregate by country\n",
    "    country_clusters = df.groupby('Country')['Cluster_Label'].agg(\n",
    "        lambda x: x.mode()[0]).reset_index()\n",
    "    \n",
    "    # Print summary statistics\n",
    "    print(\"\\n\" + \"=\"*60)\n",
    "    print(f\"{'🎯 Customer Segmentation Analysis':^60}\")\n",
    "    print(\"=\"*60)\n",
    "    \n",
    "    # Display cluster sizes\n",
    "    print(\"\\n📊 Cluster Sizes:\")\n",
    "    cluster_sizes = df['Cluster_Label'].value_counts()\n",
    "    for label, size in cluster_sizes.items():\n",
    "        print(f\"{label}: {size:,} customers ({size/len(df)*100:.1f}%)\")\n",
    "    \n",
    "    # Display average metrics per cluster\n",
    "    print(\"\\n📈 Cluster Metrics (Mean Values):\")\n",
    "    metrics = df.groupby('Cluster_Label')[features].mean()\n",
    "    print(metrics.round(2))\n",
    "\n",
    "    # Display country-level aggregation\n",
    "    print(\"\\n🌍 Dominant Segments by Country:\")\n",
    "    print(country_clusters)\n",
    "    \n",
    "    # Create visualization\n",
    "    plt.figure(figsize=(12, 6))\n",
    "    \n",
    "    # Scatter plot\n",
    "    scatter = plt.scatter(scaled_data[:, 0], \n",
    "                         scaled_data[:, 1],\n",
    "                         c=df['Cluster'],\n",
    "                         cmap='viridis',\n",
    "                         alpha=0.6)\n",
    "    \n",
    "    # Add cluster centers\n",
    "    centers = kmeans.cluster_centers_\n",
    "    plt.scatter(centers[:, 0], \n",
    "               centers[:, 1],\n",
    "               c='red',\n",
    "               marker='x',\n",
    "               s=200,\n",
    "               linewidth=3,\n",
    "               label='Cluster Centers')\n",
    "    \n",
    "    # Format plot\n",
    "    plt.title('Customer Segments Visualization',\n",
    "              fontsize=14,\n",
    "              pad=20)\n",
    "    plt.xlabel('Normalized Quantity')\n",
    "    plt.ylabel('Normalized Unit Price')\n",
    "    plt.legend(*scatter.legend_elements(), \n",
    "              title=\"Clusters\")\n",
    "    plt.grid(True, linestyle='--', alpha=0.7)\n",
    "    plt.tight_layout()\n",
    "    \n",
    "    return df, country_clusters, plt\n",
    "\n",
    "# Usage\n",
    "sales_df, country_clusters, plt = perform_customer_segmentation(sales_df)\n",
    "plt.show()"
   ]
  },
  {
   "cell_type": "code",
   "execution_count": 35,
   "id": "6b603698-fa9b-40d4-8295-3bca050438ab",
   "metadata": {},
   "outputs": [
    {
     "name": "stdout",
     "output_type": "stream",
     "text": [
      "\n",
      "Cluster Distribution:\n",
      "Cluster_Label\n",
      "Medium spenders             360450\n",
      "Frequent small spenders     113283\n",
      "Occasional high spenders         8\n",
      "Name: count, dtype: int64\n",
      "\n",
      "Country-Level Aggregation:\n",
      "Cluster_Label\n",
      "Frequent small spenders    21\n",
      "Medium spenders            17\n",
      "Name: count, dtype: int64\n",
      "\n",
      "============================================================\n",
      "          🌍 Global Customer Segmentation Analysis           \n",
      "============================================================\n",
      "\n",
      "📊 Cluster Statistics:\n",
      "------------------------------------------------------------\n",
      "\n",
      "Frequent small spenders:\n",
      "Number of Transactions: 113,283.0\n",
      "Average Quantity: 11.78\n",
      "Average Unit Price: £1.89\n",
      "Total Revenue: £2,480,122.89\n",
      "------------------------------\n",
      "\n",
      "Medium spenders:\n",
      "Number of Transactions: 360,450.0\n",
      "Average Quantity: 2.50\n",
      "Average Unit Price: £4.80\n",
      "Total Revenue: £3,511,131.28\n",
      "------------------------------\n",
      "\n",
      "Occasional high spenders:\n",
      "Number of Transactions: 8.0\n",
      "Average Quantity: 1.00\n",
      "Average Unit Price: £6,726.30\n",
      "Total Revenue: £53,810.38\n",
      "------------------------------\n"
     ]
    },
    {
     "data": {
      "application/vnd.plotly.v1+json": {
       "config": {
        "plotlyServerURL": "https://plot.ly"
       },
       "data": [
        {
         "colorscale": [
          [
           0,
           "#2ca02c"
          ],
          [
           1,
           "#2ca02c"
          ]
         ],
         "geo": "geo",
         "hovertemplate": "Cluster_Label=Medium spenders<br>Country=%{location}<extra></extra>",
         "locationmode": "country names",
         "locations": [
          "Australia",
          "Bahrain",
          "Brazil",
          "Channel Islands",
          "Cyprus",
          "EIRE",
          "European Community",
          "Israel",
          "Italy",
          "Japan",
          "Malta",
          "Netherlands",
          "Portugal",
          "RSA",
          "Spain",
          "United Kingdom",
          "Unspecified"
         ],
         "name": "Medium spenders",
         "showlegend": true,
         "showscale": false,
         "type": "choropleth",
         "z": [
          1,
          1,
          1,
          1,
          1,
          1,
          1,
          1,
          1,
          1,
          1,
          1,
          1,
          1,
          1,
          1,
          1
         ]
        },
        {
         "colorscale": [
          [
           0,
           "#1f77b4"
          ],
          [
           1,
           "#1f77b4"
          ]
         ],
         "geo": "geo",
         "hovertemplate": "Cluster_Label=Frequent small spenders<br>Country=%{location}<extra></extra>",
         "locationmode": "country names",
         "locations": [
          "Austria",
          "Belgium",
          "Canada",
          "Czech Republic",
          "Denmark",
          "Finland",
          "France",
          "Germany",
          "Greece",
          "Hong Kong",
          "Iceland",
          "Lebanon",
          "Lithuania",
          "Norway",
          "Poland",
          "Saudi Arabia",
          "Singapore",
          "Sweden",
          "Switzerland",
          "USA",
          "United Arab Emirates"
         ],
         "name": "Frequent small spenders",
         "showlegend": true,
         "showscale": false,
         "type": "choropleth",
         "z": [
          1,
          1,
          1,
          1,
          1,
          1,
          1,
          1,
          1,
          1,
          1,
          1,
          1,
          1,
          1,
          1,
          1,
          1,
          1,
          1,
          1
         ]
        }
       ],
       "layout": {
        "geo": {
         "center": {},
         "coastlinecolor": "Black",
         "domain": {
          "x": [
           0,
           1
          ],
          "y": [
           0,
           1
          ]
         },
         "fitbounds": "locations",
         "landcolor": "LightGray",
         "showcoastlines": true,
         "showframe": false,
         "showland": true,
         "visible": true
        },
        "height": 800,
        "legend": {
         "font": {
          "size": 14
         },
         "title": {
          "font": {
           "size": 16
          },
          "text": "Customer Segments"
         },
         "tracegroupgap": 0
        },
        "margin": {
         "b": 50,
         "t": 100
        },
        "paper_bgcolor": "white",
        "plot_bgcolor": "white",
        "template": {
         "data": {
          "bar": [
           {
            "error_x": {
             "color": "#2a3f5f"
            },
            "error_y": {
             "color": "#2a3f5f"
            },
            "marker": {
             "line": {
              "color": "#E5ECF6",
              "width": 0.5
             },
             "pattern": {
              "fillmode": "overlay",
              "size": 10,
              "solidity": 0.2
             }
            },
            "type": "bar"
           }
          ],
          "barpolar": [
           {
            "marker": {
             "line": {
              "color": "#E5ECF6",
              "width": 0.5
             },
             "pattern": {
              "fillmode": "overlay",
              "size": 10,
              "solidity": 0.2
             }
            },
            "type": "barpolar"
           }
          ],
          "carpet": [
           {
            "aaxis": {
             "endlinecolor": "#2a3f5f",
             "gridcolor": "white",
             "linecolor": "white",
             "minorgridcolor": "white",
             "startlinecolor": "#2a3f5f"
            },
            "baxis": {
             "endlinecolor": "#2a3f5f",
             "gridcolor": "white",
             "linecolor": "white",
             "minorgridcolor": "white",
             "startlinecolor": "#2a3f5f"
            },
            "type": "carpet"
           }
          ],
          "choropleth": [
           {
            "colorbar": {
             "outlinewidth": 0,
             "ticks": ""
            },
            "type": "choropleth"
           }
          ],
          "contour": [
           {
            "colorbar": {
             "outlinewidth": 0,
             "ticks": ""
            },
            "colorscale": [
             [
              0,
              "#0d0887"
             ],
             [
              0.1111111111111111,
              "#46039f"
             ],
             [
              0.2222222222222222,
              "#7201a8"
             ],
             [
              0.3333333333333333,
              "#9c179e"
             ],
             [
              0.4444444444444444,
              "#bd3786"
             ],
             [
              0.5555555555555556,
              "#d8576b"
             ],
             [
              0.6666666666666666,
              "#ed7953"
             ],
             [
              0.7777777777777778,
              "#fb9f3a"
             ],
             [
              0.8888888888888888,
              "#fdca26"
             ],
             [
              1,
              "#f0f921"
             ]
            ],
            "type": "contour"
           }
          ],
          "contourcarpet": [
           {
            "colorbar": {
             "outlinewidth": 0,
             "ticks": ""
            },
            "type": "contourcarpet"
           }
          ],
          "heatmap": [
           {
            "colorbar": {
             "outlinewidth": 0,
             "ticks": ""
            },
            "colorscale": [
             [
              0,
              "#0d0887"
             ],
             [
              0.1111111111111111,
              "#46039f"
             ],
             [
              0.2222222222222222,
              "#7201a8"
             ],
             [
              0.3333333333333333,
              "#9c179e"
             ],
             [
              0.4444444444444444,
              "#bd3786"
             ],
             [
              0.5555555555555556,
              "#d8576b"
             ],
             [
              0.6666666666666666,
              "#ed7953"
             ],
             [
              0.7777777777777778,
              "#fb9f3a"
             ],
             [
              0.8888888888888888,
              "#fdca26"
             ],
             [
              1,
              "#f0f921"
             ]
            ],
            "type": "heatmap"
           }
          ],
          "heatmapgl": [
           {
            "colorbar": {
             "outlinewidth": 0,
             "ticks": ""
            },
            "colorscale": [
             [
              0,
              "#0d0887"
             ],
             [
              0.1111111111111111,
              "#46039f"
             ],
             [
              0.2222222222222222,
              "#7201a8"
             ],
             [
              0.3333333333333333,
              "#9c179e"
             ],
             [
              0.4444444444444444,
              "#bd3786"
             ],
             [
              0.5555555555555556,
              "#d8576b"
             ],
             [
              0.6666666666666666,
              "#ed7953"
             ],
             [
              0.7777777777777778,
              "#fb9f3a"
             ],
             [
              0.8888888888888888,
              "#fdca26"
             ],
             [
              1,
              "#f0f921"
             ]
            ],
            "type": "heatmapgl"
           }
          ],
          "histogram": [
           {
            "marker": {
             "pattern": {
              "fillmode": "overlay",
              "size": 10,
              "solidity": 0.2
             }
            },
            "type": "histogram"
           }
          ],
          "histogram2d": [
           {
            "colorbar": {
             "outlinewidth": 0,
             "ticks": ""
            },
            "colorscale": [
             [
              0,
              "#0d0887"
             ],
             [
              0.1111111111111111,
              "#46039f"
             ],
             [
              0.2222222222222222,
              "#7201a8"
             ],
             [
              0.3333333333333333,
              "#9c179e"
             ],
             [
              0.4444444444444444,
              "#bd3786"
             ],
             [
              0.5555555555555556,
              "#d8576b"
             ],
             [
              0.6666666666666666,
              "#ed7953"
             ],
             [
              0.7777777777777778,
              "#fb9f3a"
             ],
             [
              0.8888888888888888,
              "#fdca26"
             ],
             [
              1,
              "#f0f921"
             ]
            ],
            "type": "histogram2d"
           }
          ],
          "histogram2dcontour": [
           {
            "colorbar": {
             "outlinewidth": 0,
             "ticks": ""
            },
            "colorscale": [
             [
              0,
              "#0d0887"
             ],
             [
              0.1111111111111111,
              "#46039f"
             ],
             [
              0.2222222222222222,
              "#7201a8"
             ],
             [
              0.3333333333333333,
              "#9c179e"
             ],
             [
              0.4444444444444444,
              "#bd3786"
             ],
             [
              0.5555555555555556,
              "#d8576b"
             ],
             [
              0.6666666666666666,
              "#ed7953"
             ],
             [
              0.7777777777777778,
              "#fb9f3a"
             ],
             [
              0.8888888888888888,
              "#fdca26"
             ],
             [
              1,
              "#f0f921"
             ]
            ],
            "type": "histogram2dcontour"
           }
          ],
          "mesh3d": [
           {
            "colorbar": {
             "outlinewidth": 0,
             "ticks": ""
            },
            "type": "mesh3d"
           }
          ],
          "parcoords": [
           {
            "line": {
             "colorbar": {
              "outlinewidth": 0,
              "ticks": ""
             }
            },
            "type": "parcoords"
           }
          ],
          "pie": [
           {
            "automargin": true,
            "type": "pie"
           }
          ],
          "scatter": [
           {
            "fillpattern": {
             "fillmode": "overlay",
             "size": 10,
             "solidity": 0.2
            },
            "type": "scatter"
           }
          ],
          "scatter3d": [
           {
            "line": {
             "colorbar": {
              "outlinewidth": 0,
              "ticks": ""
             }
            },
            "marker": {
             "colorbar": {
              "outlinewidth": 0,
              "ticks": ""
             }
            },
            "type": "scatter3d"
           }
          ],
          "scattercarpet": [
           {
            "marker": {
             "colorbar": {
              "outlinewidth": 0,
              "ticks": ""
             }
            },
            "type": "scattercarpet"
           }
          ],
          "scattergeo": [
           {
            "marker": {
             "colorbar": {
              "outlinewidth": 0,
              "ticks": ""
             }
            },
            "type": "scattergeo"
           }
          ],
          "scattergl": [
           {
            "marker": {
             "colorbar": {
              "outlinewidth": 0,
              "ticks": ""
             }
            },
            "type": "scattergl"
           }
          ],
          "scattermapbox": [
           {
            "marker": {
             "colorbar": {
              "outlinewidth": 0,
              "ticks": ""
             }
            },
            "type": "scattermapbox"
           }
          ],
          "scatterpolar": [
           {
            "marker": {
             "colorbar": {
              "outlinewidth": 0,
              "ticks": ""
             }
            },
            "type": "scatterpolar"
           }
          ],
          "scatterpolargl": [
           {
            "marker": {
             "colorbar": {
              "outlinewidth": 0,
              "ticks": ""
             }
            },
            "type": "scatterpolargl"
           }
          ],
          "scatterternary": [
           {
            "marker": {
             "colorbar": {
              "outlinewidth": 0,
              "ticks": ""
             }
            },
            "type": "scatterternary"
           }
          ],
          "surface": [
           {
            "colorbar": {
             "outlinewidth": 0,
             "ticks": ""
            },
            "colorscale": [
             [
              0,
              "#0d0887"
             ],
             [
              0.1111111111111111,
              "#46039f"
             ],
             [
              0.2222222222222222,
              "#7201a8"
             ],
             [
              0.3333333333333333,
              "#9c179e"
             ],
             [
              0.4444444444444444,
              "#bd3786"
             ],
             [
              0.5555555555555556,
              "#d8576b"
             ],
             [
              0.6666666666666666,
              "#ed7953"
             ],
             [
              0.7777777777777778,
              "#fb9f3a"
             ],
             [
              0.8888888888888888,
              "#fdca26"
             ],
             [
              1,
              "#f0f921"
             ]
            ],
            "type": "surface"
           }
          ],
          "table": [
           {
            "cells": {
             "fill": {
              "color": "#EBF0F8"
             },
             "line": {
              "color": "white"
             }
            },
            "header": {
             "fill": {
              "color": "#C8D4E3"
             },
             "line": {
              "color": "white"
             }
            },
            "type": "table"
           }
          ]
         },
         "layout": {
          "annotationdefaults": {
           "arrowcolor": "#2a3f5f",
           "arrowhead": 0,
           "arrowwidth": 1
          },
          "autotypenumbers": "strict",
          "coloraxis": {
           "colorbar": {
            "outlinewidth": 0,
            "ticks": ""
           }
          },
          "colorscale": {
           "diverging": [
            [
             0,
             "#8e0152"
            ],
            [
             0.1,
             "#c51b7d"
            ],
            [
             0.2,
             "#de77ae"
            ],
            [
             0.3,
             "#f1b6da"
            ],
            [
             0.4,
             "#fde0ef"
            ],
            [
             0.5,
             "#f7f7f7"
            ],
            [
             0.6,
             "#e6f5d0"
            ],
            [
             0.7,
             "#b8e186"
            ],
            [
             0.8,
             "#7fbc41"
            ],
            [
             0.9,
             "#4d9221"
            ],
            [
             1,
             "#276419"
            ]
           ],
           "sequential": [
            [
             0,
             "#0d0887"
            ],
            [
             0.1111111111111111,
             "#46039f"
            ],
            [
             0.2222222222222222,
             "#7201a8"
            ],
            [
             0.3333333333333333,
             "#9c179e"
            ],
            [
             0.4444444444444444,
             "#bd3786"
            ],
            [
             0.5555555555555556,
             "#d8576b"
            ],
            [
             0.6666666666666666,
             "#ed7953"
            ],
            [
             0.7777777777777778,
             "#fb9f3a"
            ],
            [
             0.8888888888888888,
             "#fdca26"
            ],
            [
             1,
             "#f0f921"
            ]
           ],
           "sequentialminus": [
            [
             0,
             "#0d0887"
            ],
            [
             0.1111111111111111,
             "#46039f"
            ],
            [
             0.2222222222222222,
             "#7201a8"
            ],
            [
             0.3333333333333333,
             "#9c179e"
            ],
            [
             0.4444444444444444,
             "#bd3786"
            ],
            [
             0.5555555555555556,
             "#d8576b"
            ],
            [
             0.6666666666666666,
             "#ed7953"
            ],
            [
             0.7777777777777778,
             "#fb9f3a"
            ],
            [
             0.8888888888888888,
             "#fdca26"
            ],
            [
             1,
             "#f0f921"
            ]
           ]
          },
          "colorway": [
           "#636efa",
           "#EF553B",
           "#00cc96",
           "#ab63fa",
           "#FFA15A",
           "#19d3f3",
           "#FF6692",
           "#B6E880",
           "#FF97FF",
           "#FECB52"
          ],
          "font": {
           "color": "#2a3f5f"
          },
          "geo": {
           "bgcolor": "white",
           "lakecolor": "white",
           "landcolor": "#E5ECF6",
           "showlakes": true,
           "showland": true,
           "subunitcolor": "white"
          },
          "hoverlabel": {
           "align": "left"
          },
          "hovermode": "closest",
          "mapbox": {
           "style": "light"
          },
          "paper_bgcolor": "white",
          "plot_bgcolor": "#E5ECF6",
          "polar": {
           "angularaxis": {
            "gridcolor": "white",
            "linecolor": "white",
            "ticks": ""
           },
           "bgcolor": "#E5ECF6",
           "radialaxis": {
            "gridcolor": "white",
            "linecolor": "white",
            "ticks": ""
           }
          },
          "scene": {
           "xaxis": {
            "backgroundcolor": "#E5ECF6",
            "gridcolor": "white",
            "gridwidth": 2,
            "linecolor": "white",
            "showbackground": true,
            "ticks": "",
            "zerolinecolor": "white"
           },
           "yaxis": {
            "backgroundcolor": "#E5ECF6",
            "gridcolor": "white",
            "gridwidth": 2,
            "linecolor": "white",
            "showbackground": true,
            "ticks": "",
            "zerolinecolor": "white"
           },
           "zaxis": {
            "backgroundcolor": "#E5ECF6",
            "gridcolor": "white",
            "gridwidth": 2,
            "linecolor": "white",
            "showbackground": true,
            "ticks": "",
            "zerolinecolor": "white"
           }
          },
          "shapedefaults": {
           "line": {
            "color": "#2a3f5f"
           }
          },
          "ternary": {
           "aaxis": {
            "gridcolor": "white",
            "linecolor": "white",
            "ticks": ""
           },
           "baxis": {
            "gridcolor": "white",
            "linecolor": "white",
            "ticks": ""
           },
           "bgcolor": "#E5ECF6",
           "caxis": {
            "gridcolor": "white",
            "linecolor": "white",
            "ticks": ""
           }
          },
          "title": {
           "x": 0.05
          },
          "xaxis": {
           "automargin": true,
           "gridcolor": "white",
           "linecolor": "white",
           "ticks": "",
           "title": {
            "standoff": 15
           },
           "zerolinecolor": "white",
           "zerolinewidth": 2
          },
          "yaxis": {
           "automargin": true,
           "gridcolor": "white",
           "linecolor": "white",
           "ticks": "",
           "title": {
            "standoff": 15
           },
           "zerolinecolor": "white",
           "zerolinewidth": 2
          }
         }
        },
        "title": {
         "font": {
          "size": 24
         },
         "text": "Global Customer Segmentation Analysis",
         "x": 0.5,
         "xanchor": "center"
        }
       }
      }
     },
     "metadata": {},
     "output_type": "display_data"
    }
   ],
   "source": [
    "import plotly.express as px\n",
    "import pandas as pd\n",
    "\n",
    "def create_customer_segment_map(country_clusters, sales_df):\n",
    "    \n",
    "    # Debugging: Check cluster distribution\n",
    "    print(\"\\nCluster Distribution:\")\n",
    "    print(sales_df['Cluster_Label'].value_counts())\n",
    "\n",
    "    # Debugging: Check country-level aggregation\n",
    "    print(\"\\nCountry-Level Aggregation:\")\n",
    "    print(country_clusters['Cluster_Label'].value_counts())\n",
    "\n",
    "    # Create choropleth map\n",
    "    fig = px.choropleth(\n",
    "        country_clusters,\n",
    "        locationmode='country names',\n",
    "        locations='Country',\n",
    "        color='Cluster_Label',\n",
    "        color_discrete_map={\n",
    "            'Frequent small spenders': '#1f77b4',\n",
    "            'Medium spenders': '#2ca02c',\n",
    "            'Occasional high spenders': '#ff7f0e'\n",
    "        },\n",
    "        title='Global Customer Segmentation Analysis'\n",
    "    )\n",
    "\n",
    "    # Enhance map layout\n",
    "    fig.update_geos(\n",
    "        showcoastlines=True,\n",
    "        coastlinecolor=\"Black\",\n",
    "        showland=True,\n",
    "        landcolor=\"LightGray\",\n",
    "        showframe=False,\n",
    "        fitbounds=\"locations\",\n",
    "        visible=True\n",
    "    )\n",
    "\n",
    "    # Update layout\n",
    "    fig.update_layout(\n",
    "        title={\n",
    "            'text': 'Global Customer Segmentation Analysis',\n",
    "            'x': 0.5,\n",
    "            'xanchor': 'center',\n",
    "            'font': {'size': 24}\n",
    "        },\n",
    "        legend_title_text='Customer Segments',\n",
    "        legend_title_font={'size': 16},\n",
    "        legend_font={'size': 14},\n",
    "        margin=dict(t=100, b=50),\n",
    "        paper_bgcolor='white',\n",
    "        plot_bgcolor='white',\n",
    "        height=800\n",
    "    )\n",
    "\n",
    "    # Print cluster analytics\n",
    "    print(\"\\n\" + \"=\"*60)\n",
    "    print(f\"{'🌍 Global Customer Segmentation Analysis':^60}\")\n",
    "    print(\"=\"*60)\n",
    "\n",
    "    # Cluster statistics\n",
    "    cluster_stats = sales_df.groupby('Cluster_Label').agg({\n",
    "        'Quantity': ['mean', 'median', 'count'],\n",
    "        'UnitPrice': ['mean', 'median'],\n",
    "        'TotalPrice': ['sum', 'mean']\n",
    "    }).round(2)\n",
    "\n",
    "    # Print formatted statistics\n",
    "    print(\"\\n📊 Cluster Statistics:\")\n",
    "    print(\"-\"*60)\n",
    "    for cluster in cluster_stats.index:\n",
    "        stats = cluster_stats.loc[cluster]\n",
    "        print(f\"\\n{cluster}:\")\n",
    "        print(f\"Number of Transactions: {stats[('Quantity', 'count')]:,}\")\n",
    "        print(f\"Average Quantity: {stats[('Quantity', 'mean')]:,.2f}\")\n",
    "        print(f\"Average Unit Price: £{stats[('UnitPrice', 'mean')]:,.2f}\")\n",
    "        print(f\"Total Revenue: £{stats[('TotalPrice', 'sum')]:,.2f}\")\n",
    "        print(\"-\"*30)\n",
    "\n",
    "    return fig\n",
    "\n",
    "# Usage\n",
    "fig = create_customer_segment_map(country_clusters, sales_df)\n",
    "fig.show()"
   ]
  },
  {
   "cell_type": "markdown",
   "id": "bb918d0b-84ec-4cf8-a9bb-a29ef184bdeb",
   "metadata": {},
   "source": [
    "# Conclusions\n",
    "Through clustering analysis, we identified distinct customer segments with unique purchasing behaviors. These include:\n",
    "\n",
    "Frequent Small Spenders: Customers who make regular, low-cost purchases, often focusing on essential or add-on products.\n",
    "Occasional High Spenders: Customers who buy less frequently but tend to make significant purchases, often in bulk or for high-value items.\n",
    "This segmentation provides a deeper understanding of our customer base and lays the foundation for developing tailored strategies to engage each group effectively.\n",
    "\n",
    "Opportunities for Targeted Marketing:\n",
    "Each segment presents specific opportunities for targeted marketing that could drive engagement and brand loyalty:\n",
    "\n",
    "Frequent Small Spenders can be engaged through loyalty programs, incentives on frequently bought items, and subscription options that simplify regular purchases.\n",
    "Occasional High Spenders could be targeted with exclusive offers on high-value items, bundled discounts, and personalized promotions around special events or seasonal sales.\n",
    "\n",
    "While this analysis provides valuable insights, collecting additional data—such as demographic information, customer feedback, and browsing behavior—could further refine the segmentation process. Enhanced data will enable more precise targeting, allowing the business to anticipate and respond to customer needs more effectively.\n",
    "Customer segmentation is a powerful tool for understanding diverse customer behaviors and developing strategies that are both personalized and impactful. This analysis highlights the potential for data-driven insights to inform marketing, inventory, and customer engagement strategies, illustrating how segmentation can drive meaningful business outcomes."
   ]
  }
 ],
 "metadata": {
  "kernelspec": {
   "display_name": "base",
   "language": "python",
   "name": "python3"
  },
  "language_info": {
   "codemirror_mode": {
    "name": "ipython",
    "version": 3
   },
   "file_extension": ".py",
   "mimetype": "text/x-python",
   "name": "python",
   "nbconvert_exporter": "python",
   "pygments_lexer": "ipython3",
   "version": "3.12.4"
  }
 },
 "nbformat": 4,
 "nbformat_minor": 5
}
